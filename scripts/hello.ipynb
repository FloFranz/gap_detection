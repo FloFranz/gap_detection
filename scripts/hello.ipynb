{
 "cells": [
  {
   "cell_type": "code",
   "execution_count": null,
   "metadata": {},
   "outputs": [],
   "source": [
    "from pathlib import Path\n",
    "import importlib.util\n",
    "\n",
    "from pathlib import Path\n",
    "import importlib.util\n",
    "\n",
    "# Load the setup.py module\n",
    "path = Path.cwd().parent / \"src\" / \"setup.py\"\n",
    "spec = importlib.util.spec_from_file_location('setup', path)\n",
    "setup = importlib.util.module_from_spec(spec)\n",
    "spec.loader.exec_module(setup)\n",
    "\n",
    "# Call the make_folders function\n",
    "raw_data_dir, processed_data_dir, output_dir = setup.make_folders()"
   ]
  }
 ],
 "metadata": {
  "kernelspec": {
   "display_name": ".venv",
   "language": "python",
   "name": "python3"
  },
  "language_info": {
   "codemirror_mode": {
    "name": "ipython",
    "version": 3
   },
   "file_extension": ".py",
   "mimetype": "text/x-python",
   "name": "python",
   "nbconvert_exporter": "python",
   "pygments_lexer": "ipython3",
   "version": "3.11.4"
  },
  "orig_nbformat": 4
 },
 "nbformat": 4,
 "nbformat_minor": 2
}
